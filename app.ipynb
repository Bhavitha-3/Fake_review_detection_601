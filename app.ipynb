{
 "cells": [
  {
   "cell_type": "code",
   "execution_count": null,
   "id": "42659749",
   "metadata": {},
   "outputs": [
    {
     "name": "stderr",
     "output_type": "stream",
     "text": [
      "[nltk_data] Downloading package stopwords to C:\\Users\\KRISHNA\n",
      "[nltk_data]     CHAITHANYA\\AppData\\Roaming\\nltk_data...\n",
      "[nltk_data]   Package stopwords is already up-to-date!\n"
     ]
    },
    {
     "name": "stdout",
     "output_type": "stream",
     "text": [
      " * Serving Flask app '__main__'\n",
      " * Debug mode: off\n"
     ]
    },
    {
     "name": "stderr",
     "output_type": "stream",
     "text": [
      "WARNING: This is a development server. Do not use it in a production deployment. Use a production WSGI server instead.\n",
      " * Running on http://127.0.0.1:5000\n",
      "Press CTRL+C to quit\n",
      "127.0.0.1 - - [18/May/2025 12:22:37] \"GET / HTTP/1.1\" 200 -\n",
      "127.0.0.1 - - [18/May/2025 12:22:37] \"GET /favicon.ico HTTP/1.1\" 404 -\n",
      "127.0.0.1 - - [18/May/2025 12:23:30] \"POST / HTTP/1.1\" 200 -\n"
     ]
    }
   ],
   "source": [
    "from flask import Flask, request, render_template\n",
    "import joblib\n",
    "import re\n",
    "import string\n",
    "import nltk\n",
    "from nltk.corpus import stopwords\n",
    "from nltk.stem import SnowballStemmer\n",
    "\n",
    "nltk.download('stopwords')\n",
    "\n",
    "app = Flask(__name__)\n",
    "\n",
    "# Load models and vectorizers\n",
    "LR = joblib.load(\"logreg_model.pkl\")\n",
    "lr = joblib.load(\"linreg_model.pkl\")\n",
    "vectorization = joblib.load(\"logreg_vectorizer.pkl\")\n",
    "tfidf = joblib.load(\"linreg_vectorizer.pkl\")\n",
    "\n",
    "stemmer = SnowballStemmer(\"english\")\n",
    "stopword = set(stopwords.words('english'))\n",
    "\n",
    "def text_cleaning(text):\n",
    "    text = str(text).lower()\n",
    "    text = re.sub('\\[.*?\\]', '', text)\n",
    "    text = re.sub('https?://\\S+|www\\.\\S+', '', text)\n",
    "    text = re.sub('<.*?>+', '', text)\n",
    "    text = re.sub('[%s]' % re.escape(string.punctuation), '', text)\n",
    "    text = re.sub('\\n', '', text)\n",
    "    text = re.sub('\\w*\\d\\w*', '', text)\n",
    "    text = \" \".join([stemmer.stem(word) for word in text.split() if word not in stopword])\n",
    "    return text\n",
    "\n",
    "def output_label(n):\n",
    "    return \"Not A Fake Review\" if n == 1 else \"Fake Review\"\n",
    "\n",
    "@app.route(\"/\", methods=[\"GET\", \"POST\"])\n",
    "def index():\n",
    "    if request.method == \"POST\":\n",
    "        review = request.form[\"review\"]\n",
    "        cleaned_review = text_cleaning(review)\n",
    "\n",
    "        log_feat = vectorization.transform([cleaned_review])\n",
    "        lin_feat = tfidf.transform([cleaned_review])\n",
    "\n",
    "        log_pred = LR.predict(log_feat)\n",
    "        log_bin = 0 if log_pred[0] == 'CG' else 1\n",
    "\n",
    "        lin_val = lr.predict(lin_feat)[0]\n",
    "        lin_bin = 1 if lin_val >= 0.5 else 0\n",
    "\n",
    "        return render_template(\"index.html\",\n",
    "                               review=review,\n",
    "                               logistic_result=output_label(log_bin),\n",
    "                               linear_result=output_label(lin_bin))\n",
    "    return render_template(\"index.html\")\n",
    "\n",
    "if __name__ == \"__main__\":\n",
    "    app.run(debug=False, use_reloader=False)\n"
   ]
  },
  {
   "cell_type": "code",
   "execution_count": null,
   "id": "6b3ef276",
   "metadata": {},
   "outputs": [],
   "source": []
  }
 ],
 "metadata": {
  "kernelspec": {
   "display_name": "Python 3 (ipykernel)",
   "language": "python",
   "name": "python3"
  },
  "language_info": {
   "codemirror_mode": {
    "name": "ipython",
    "version": 3
   },
   "file_extension": ".py",
   "mimetype": "text/x-python",
   "name": "python",
   "nbconvert_exporter": "python",
   "pygments_lexer": "ipython3",
   "version": "3.10.9"
  }
 },
 "nbformat": 4,
 "nbformat_minor": 5
}
